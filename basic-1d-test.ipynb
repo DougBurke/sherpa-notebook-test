{
 "cells": [
  {
   "cell_type": "markdown",
   "metadata": {},
   "source": [
    "# Basic 1D test\n",
    "\n",
    "This loads a 1D dataset, without errors, and does a simple least-squares fit to it. It checks that the\n",
    "data can be unsorted, and does some simple multiple-dataset fits.\n",
    "\n",
    "Note that I had thought that the \"seeing the logging output twice, with one version with a pink background\" had\n",
    "been fixed, but obviously not."
   ]
  },
  {
   "cell_type": "code",
   "execution_count": 1,
   "metadata": {
    "collapsed": true
   },
   "outputs": [],
   "source": [
    "%matplotlib inline"
   ]
  },
  {
   "cell_type": "code",
   "execution_count": 2,
   "metadata": {
    "collapsed": false
   },
   "outputs": [],
   "source": [
    "import numpy as np\n",
    "# Fixing the random seed is an attempt to make the following test more deterministic,\n",
    "# but it's not ideal since there's no guarantee that the results will be the same\n",
    "# on different architectures, or different versions of NumPy.\n",
    "np.random.seed(23742)"
   ]
  },
  {
   "cell_type": "code",
   "execution_count": 3,
   "metadata": {
    "collapsed": false
   },
   "outputs": [
    {
     "name": "stdout",
     "output_type": "stream",
     "text": [
      "WARNING: imaging routines will not be available, \n",
      "failed to import sherpa.image.ds9_backend due to \n",
      "'RuntimeErr: DS9Win unusable: Could not find ds9 on your PATH'\n"
     ]
    },
    {
     "name": "stderr",
     "output_type": "stream",
     "text": [
      "WARNING:sherpa.image:imaging routines will not be available, \n",
      "failed to import sherpa.image.ds9_backend due to \n",
      "'RuntimeErr: DS9Win unusable: Could not find ds9 on your PATH'\n"
     ]
    }
   ],
   "source": [
    "from sherpa import ui\n",
    "from sherpa.utils import err"
   ]
  },
  {
   "cell_type": "code",
   "execution_count": 4,
   "metadata": {
    "collapsed": true
   },
   "outputs": [],
   "source": [
    "import logging\n",
    "\n",
    "logger = logging.getLogger('sherpa')\n",
    "\n",
    "class Assert:\n",
    "    \"\"\"Rather hacky set of assertions\"\"\"\n",
    "    \n",
    "    def __init__(self):\n",
    "        self.ntests = 0\n",
    "        self.fails = []\n",
    "        \n",
    "    def __str__(self):\n",
    "        return \"Num tests={}  num failed={}\".format(self.ntests, len(self.fails))\n",
    "    \n",
    "    def report(self, ntot=None):\n",
    "        if ntot is not None and self.ntests != ntot:\n",
    "            print(\"Expected {} tests but ran {}\".format(ntot, self.ntests))\n",
    "            \n",
    "        if self.ntests == 0:\n",
    "            print(\"No tests ran\")\n",
    "            return\n",
    "        if self.fails == []:\n",
    "            print(\"All {} tests ran successfully\".format(self.ntests))\n",
    "            return\n",
    "        print(\"Out of {} tests, the following {} failed:\".format(self.ntests, len(self.fails)))\n",
    "        for f in self.fails:\n",
    "            print(\"  {}\".format(f))\n",
    "            \n",
    "    def assertTrue(self, f, msg=None):\n",
    "        \"\"\"Log a message if the assertion is False.\"\"\"\n",
    "        self.ntests += 1\n",
    "        if f: return\n",
    "        if msg is None: msg = \"assertion failed\"\n",
    "        self.fails.append(msg)\n",
    "        logger.error(msg)\n",
    "    \n",
    "    def assertEqual(self, exp, got, msg=None):\n",
    "        \"\"\"Check that got equals exp\"\"\"\n",
    "        if msg is None:\n",
    "            msg = \"\"\n",
    "        else:\n",
    "            msg += \": \"\n",
    "        msg += \"Expected {} but got {}\".format(exp, got)\n",
    "        # Hack\n",
    "        res = exp == got\n",
    "        try:\n",
    "            res = res.all()\n",
    "        except AttributeError:\n",
    "            pass\n",
    "        self.assertTrue(res, msg)\n",
    "    \n",
    "    def assertEqualTol(self, exp, got, tol=1e-7, msg=None):\n",
    "        \"\"\"Simple absolute tolerance check\"\"\"\n",
    "        if msg is None:\n",
    "            msg = \"\"\n",
    "        else:\n",
    "            msg += \": \"\n",
    "        msg += \"Absolute tolerance of {} exceeded: {} vs {}\".format(tol, exp, got)\n",
    "        res = np.abs(got - exp) > tol\n",
    "        try:\n",
    "            res = res.any()\n",
    "        except AttributeError:\n",
    "            pass\n",
    "        self.assertTrue(not res, msg=msg)"
   ]
  },
  {
   "cell_type": "code",
   "execution_count": 5,
   "metadata": {
    "collapsed": true
   },
   "outputs": [],
   "source": [
    "t = Assert()"
   ]
  },
  {
   "cell_type": "markdown",
   "metadata": {
    "collapsed": true
   },
   "source": [
    "## Data to be used\n",
    "\n",
    "A polynomial form is used, and the data is not assumed to be ordered. Note that while Sherpa can fit unordered data, the plot routines may not work correctly."
   ]
  },
  {
   "cell_type": "code",
   "execution_count": 6,
   "metadata": {
    "collapsed": true
   },
   "outputs": [],
   "source": [
    "npts = 50\n",
    "sigma = 10\n",
    "a0 = 13.2\n",
    "a1 = -1.9\n",
    "a2 = 0.027\n",
    "x = np.random.random(size=npts) * 100 + 50\n",
    "y = a0 + a1 * x + a2 * x * x + np.random.normal(scale=sigma, size=npts)"
   ]
  },
  {
   "cell_type": "code",
   "execution_count": 7,
   "metadata": {
    "collapsed": true
   },
   "outputs": [],
   "source": [
    "# these were determined by comparing the fit result to the input value, and so are \"regression\" tests\n",
    "# (i.e. just check that get similar results when it is re-run)\n",
    "a0_fit = 11.728\n",
    "a0_tol = 0.001\n",
    "\n",
    "a1_fit = -1.854\n",
    "a1_tol = 0.001\n",
    "\n",
    "a2_fit = 0.027\n",
    "a2_tol = 0.001"
   ]
  },
  {
   "cell_type": "code",
   "execution_count": 8,
   "metadata": {
    "collapsed": true
   },
   "outputs": [],
   "source": [
    "ui.load_arrays(1, x, y)"
   ]
  },
  {
   "cell_type": "code",
   "execution_count": 9,
   "metadata": {
    "collapsed": false
   },
   "outputs": [
    {
     "name": "stdout",
     "output_type": "stream",
     "text": [
      "name      = \n",
      "x         = Float64[50]\n",
      "y         = Float64[50]\n",
      "staterror = None\n",
      "syserror  = None\n"
     ]
    }
   ],
   "source": [
    "# Can we access the data?\n",
    "d = ui.get_data()\n",
    "print(d)"
   ]
  },
  {
   "cell_type": "code",
   "execution_count": 10,
   "metadata": {
    "collapsed": true
   },
   "outputs": [],
   "source": [
    "t.assertTrue(isinstance(d, ui.Data1D), \"data is Data1D\")"
   ]
  },
  {
   "cell_type": "code",
   "execution_count": 11,
   "metadata": {
    "collapsed": false
   },
   "outputs": [],
   "source": [
    "t.assertEqual(x, d.x, \"x array\")"
   ]
  },
  {
   "cell_type": "code",
   "execution_count": 12,
   "metadata": {
    "collapsed": true
   },
   "outputs": [],
   "source": [
    "t.assertEqual(y, d.y, \"y array\")"
   ]
  },
  {
   "cell_type": "code",
   "execution_count": 13,
   "metadata": {
    "collapsed": false
   },
   "outputs": [],
   "source": [
    "t.assertEqual(None, d.staterror, \"staterror\")"
   ]
  },
  {
   "cell_type": "code",
   "execution_count": 14,
   "metadata": {
    "collapsed": false
   },
   "outputs": [],
   "source": [
    "t.assertEqual(None, d.syserror, \"syserror\")"
   ]
  },
  {
   "cell_type": "code",
   "execution_count": 15,
   "metadata": {
    "collapsed": false
   },
   "outputs": [],
   "source": [
    "t.assertEqual('chi2gehrels', ui.get_stat_name())"
   ]
  },
  {
   "cell_type": "code",
   "execution_count": 16,
   "metadata": {
    "collapsed": true
   },
   "outputs": [],
   "source": [
    "# Ignore error bars in the fit\n",
    "ui.set_stat('leastsq')"
   ]
  },
  {
   "cell_type": "code",
   "execution_count": 17,
   "metadata": {
    "collapsed": true
   },
   "outputs": [],
   "source": [
    "t.assertEqual('leastsq', ui.get_stat_name())"
   ]
  },
  {
   "cell_type": "code",
   "execution_count": 18,
   "metadata": {
    "collapsed": false
   },
   "outputs": [
    {
     "name": "stdout",
     "output_type": "stream",
     "text": [
      "WARNING: The displayed errorbars have been supplied with the data or calculated using chi2xspecvar; the errors are not used in fits with leastsq\n"
     ]
    },
    {
     "name": "stderr",
     "output_type": "stream",
     "text": [
      "WARNING:sherpa.plot:The displayed errorbars have been supplied with the data or calculated using chi2xspecvar; the errors are not used in fits with leastsq\n",
      "/home/djburke/miniconda2/envs/sherpa-4.8.0/lib/python2.7/site-packages/matplotlib/collections.py:590: FutureWarning: elementwise comparison failed; returning scalar instead, but in the future will perform elementwise comparison\n",
      "  if self._edgecolors == str('face'):\n"
     ]
    },
    {
     "data": {
      "image/png": "[encoded data removed]",
      "text/plain": [
       "<matplotlib.figure.Figure at 0x7efc72127ad0>"
      ]
     },
     "metadata": {},
     "output_type": "display_data"
    }
   ],
   "source": [
    "# Expect to get a warning message about the error bars\n",
    "ui.plot_data()"
   ]
  },
  {
   "cell_type": "code",
   "execution_count": 19,
   "metadata": {
    "collapsed": false
   },
   "outputs": [],
   "source": [
    "flag = False\n",
    "try:\n",
    "    ui.get_source()\n",
    "except err.IdentifierErr:\n",
    "    flag = True\n",
    "\n",
    "t.assertTrue(flag, \"get_source did not error out\")"
   ]
  },
  {
   "cell_type": "code",
   "execution_count": 20,
   "metadata": {
    "collapsed": true
   },
   "outputs": [],
   "source": [
    "ui.set_source(ui.polynom1d.mdl)"
   ]
  },
  {
   "cell_type": "code",
   "execution_count": 21,
   "metadata": {
    "collapsed": true
   },
   "outputs": [],
   "source": [
    "src = ui.get_source()"
   ]
  },
  {
   "cell_type": "code",
   "execution_count": 22,
   "metadata": {
    "collapsed": false
   },
   "outputs": [],
   "source": [
    "# Rely on whatever equality checking is provided by the model class\n",
    "t.assertEqual(mdl, src)"
   ]
  },
  {
   "cell_type": "code",
   "execution_count": 23,
   "metadata": {
    "collapsed": false
   },
   "outputs": [],
   "source": [
    "t.assertEqual([1.0], src.thawedpars, \"thawed parameters\")"
   ]
  },
  {
   "cell_type": "code",
   "execution_count": 24,
   "metadata": {
    "collapsed": false
   },
   "outputs": [
    {
     "name": "stdout",
     "output_type": "stream",
     "text": [
      "WARNING: The displayed errorbars have been supplied with the data or calculated using chi2xspecvar; the errors are not used in fits with leastsq\n"
     ]
    },
    {
     "name": "stderr",
     "output_type": "stream",
     "text": [
      "WARNING:sherpa.plot:The displayed errorbars have been supplied with the data or calculated using chi2xspecvar; the errors are not used in fits with leastsq\n"
     ]
    },
    {
     "data": {
      "image/png": "[encoded data removed]",
      "text/plain": [
       "<matplotlib.figure.Figure at 0x7efc703cc290>"
      ]
     },
     "metadata": {},
     "output_type": "display_data"
    }
   ],
   "source": [
    "# Should be terrible\n",
    "ui.plot_fit()"
   ]
  },
  {
   "cell_type": "code",
   "execution_count": 25,
   "metadata": {
    "collapsed": false
   },
   "outputs": [
    {
     "name": "stdout",
     "output_type": "stream",
     "text": [
      "polynom1d.mdl\n",
      "   Param        Type          Value          Min          Max      Units\n",
      "   -----        ----          -----          ---          ---      -----\n",
      "   mdl.c0       thawed            1 -3.40282e+38  3.40282e+38           \n",
      "   mdl.c1       frozen            0 -3.40282e+38  3.40282e+38           \n",
      "   mdl.c2       frozen            0 -3.40282e+38  3.40282e+38           \n",
      "   mdl.c3       frozen            0 -3.40282e+38  3.40282e+38           \n",
      "   mdl.c4       frozen            0 -3.40282e+38  3.40282e+38           \n",
      "   mdl.c5       frozen            0 -3.40282e+38  3.40282e+38           \n",
      "   mdl.c6       frozen            0 -3.40282e+38  3.40282e+38           \n",
      "   mdl.c7       frozen            0 -3.40282e+38  3.40282e+38           \n",
      "   mdl.c8       frozen            0 -3.40282e+38  3.40282e+38           \n",
      "   mdl.offset   frozen            0 -3.40282e+38  3.40282e+38           \n"
     ]
    }
   ],
   "source": [
    "print(mdl)"
   ]
  },
  {
   "cell_type": "code",
   "execution_count": 26,
   "metadata": {
    "collapsed": true
   },
   "outputs": [],
   "source": [
    "pr = ui.get_model_plot()"
   ]
  },
  {
   "cell_type": "code",
   "execution_count": 27,
   "metadata": {
    "collapsed": true
   },
   "outputs": [],
   "source": [
    "t.assertEqual(x, pr.x)"
   ]
  },
  {
   "cell_type": "code",
   "execution_count": 28,
   "metadata": {
    "collapsed": false
   },
   "outputs": [],
   "source": [
    "# Model evaluation should be 1 for each bin\n",
    "t.assertEqual(np.ones_like(x), pr.y)"
   ]
  },
  {
   "cell_type": "code",
   "execution_count": 29,
   "metadata": {
    "collapsed": true
   },
   "outputs": [],
   "source": [
    "stat_val_got = ui.calc_stat()"
   ]
  },
  {
   "cell_type": "code",
   "execution_count": 30,
   "metadata": {
    "collapsed": true
   },
   "outputs": [],
   "source": [
    "# The expected statistic can be easily calculated\n",
    "stat_val_exp = ((y - 1)**2).sum()"
   ]
  },
  {
   "cell_type": "code",
   "execution_count": 31,
   "metadata": {
    "collapsed": false
   },
   "outputs": [],
   "source": [
    "t.assertEqualTol(stat_val_exp, stat_val_got)"
   ]
  },
  {
   "cell_type": "code",
   "execution_count": 32,
   "metadata": {
    "collapsed": true
   },
   "outputs": [],
   "source": [
    "t.assertTrue(\"levmar\", ui.get_method_name())"
   ]
  },
  {
   "cell_type": "code",
   "execution_count": 33,
   "metadata": {
    "collapsed": false
   },
   "outputs": [
    {
     "name": "stdout",
     "output_type": "stream",
     "text": [
      "Dataset               = 1\n",
      "Method                = levmar\n",
      "Statistic             = leastsq\n",
      "Initial fit statistic = 1.17359e+06\n",
      "Final fit statistic   = 570162 at function evaluation 4\n",
      "Data points           = 50\n",
      "Degrees of freedom    = 49\n",
      "Change in statistic   = 603432\n",
      "   mdl.c0         110.857     \n"
     ]
    },
    {
     "name": "stderr",
     "output_type": "stream",
     "text": [
      "INFO:sherpa.ui.utils:Dataset               = 1\n",
      "Method                = levmar\n",
      "Statistic             = leastsq\n",
      "Initial fit statistic = 1.17359e+06\n",
      "Final fit statistic   = 570162 at function evaluation 4\n",
      "Data points           = 50\n",
      "Degrees of freedom    = 49\n",
      "Change in statistic   = 603432\n",
      "   mdl.c0         110.857     \n"
     ]
    }
   ],
   "source": [
    "ui.fit()"
   ]
  },
  {
   "cell_type": "code",
   "execution_count": 34,
   "metadata": {
    "collapsed": true
   },
   "outputs": [],
   "source": [
    "fr = ui.get_fit_results()"
   ]
  },
  {
   "cell_type": "code",
   "execution_count": 35,
   "metadata": {
    "collapsed": false
   },
   "outputs": [],
   "source": [
    "t.assertTrue(fr.succeeded, msg=\"first fit succeeded\")\n",
    "t.assertEqual('leastsq', fr.statname, msg=\"first fit uses leastsq\")"
   ]
  },
  {
   "cell_type": "code",
   "execution_count": 36,
   "metadata": {
    "collapsed": true
   },
   "outputs": [],
   "source": [
    "# I expect an answer of 4, but in case of numerical differences or changes in the\n",
    "# optimiser, allow a slightly-wider range\n",
    "t.assertTrue(fr.nfev < 10, \"fit ran quickly\")"
   ]
  },
  {
   "cell_type": "code",
   "execution_count": 37,
   "metadata": {
    "collapsed": false
   },
   "outputs": [],
   "source": [
    "t.assertEqual(npts - 1, fr.dof, msg='fit dof')"
   ]
  },
  {
   "cell_type": "code",
   "execution_count": 38,
   "metadata": {
    "collapsed": false
   },
   "outputs": [],
   "source": [
    "# This is just testing the result is similar to the first time I ran this (i.e a\n",
    "# tregression test)\n",
    "c0_init_fit = 110.8573\n",
    "t.assertEqualTol(c0_init_fit, mdl.c0.val, tol=1e-4, msg=\"fitted value (c0)\")"
   ]
  },
  {
   "cell_type": "code",
   "execution_count": 39,
   "metadata": {
    "collapsed": false
   },
   "outputs": [],
   "source": [
    "stat_init_fit = 570161.802\n",
    "t.assertEqualTol(stat_init_fit, fr.statval, tol=1e-3, msg=\"final fit statistic\")"
   ]
  },
  {
   "cell_type": "code",
   "execution_count": 40,
   "metadata": {
    "collapsed": true
   },
   "outputs": [],
   "source": [
    "t.assertEqual(None, fr.rstat, msg=\"No reduced statistic value for least squares fitting\")"
   ]
  },
  {
   "cell_type": "markdown",
   "metadata": {},
   "source": [
    "## Check out guess"
   ]
  },
  {
   "cell_type": "code",
   "execution_count": 41,
   "metadata": {
    "collapsed": true
   },
   "outputs": [],
   "source": [
    "ui.guess()"
   ]
  },
  {
   "cell_type": "code",
   "execution_count": 42,
   "metadata": {
    "collapsed": false
   },
   "outputs": [
    {
     "name": "stdout",
     "output_type": "stream",
     "text": [
      "polynom1d.mdl\n",
      "   Param        Type          Value          Min          Max      Units\n",
      "   -----        ----          -----          ---          ---      -----\n",
      "   mdl.c0       thawed      141.735     -15.4976      298.967           \n",
      "   mdl.c1       frozen            0 -3.40282e+38  3.40282e+38           \n",
      "   mdl.c2       frozen            0 -3.40282e+38  3.40282e+38           \n",
      "   mdl.c3       frozen            0 -3.40282e+38  3.40282e+38           \n",
      "   mdl.c4       frozen            0 -3.40282e+38  3.40282e+38           \n",
      "   mdl.c5       frozen            0 -3.40282e+38  3.40282e+38           \n",
      "   mdl.c6       frozen            0 -3.40282e+38  3.40282e+38           \n",
      "   mdl.c7       frozen            0 -3.40282e+38  3.40282e+38           \n",
      "   mdl.c8       frozen            0 -3.40282e+38  3.40282e+38           \n",
      "   mdl.offset   frozen            0 -3.40282e+38  3.40282e+38           \n"
     ]
    }
   ],
   "source": [
    "print(mdl)"
   ]
  },
  {
   "cell_type": "code",
   "execution_count": 43,
   "metadata": {
    "collapsed": false
   },
   "outputs": [],
   "source": [
    "par_exp = (y.min() + y.max()) / 2\n",
    "t.assertEqualTol(par_exp, mdl.c0.val, msg='c0 after guess')"
   ]
  },
  {
   "cell_type": "code",
   "execution_count": 44,
   "metadata": {
    "collapsed": false
   },
   "outputs": [],
   "source": [
    "t.assertEqualTol(y.min(), mdl.c0.min, msg='c0.min after guess')"
   ]
  },
  {
   "cell_type": "code",
   "execution_count": 45,
   "metadata": {
    "collapsed": false
   },
   "outputs": [],
   "source": [
    "t.assertEqualTol(y.max(), mdl.c0.max, msg='c0.max after guess')"
   ]
  },
  {
   "cell_type": "code",
   "execution_count": 46,
   "metadata": {
    "collapsed": false
   },
   "outputs": [
    {
     "name": "stdout",
     "output_type": "stream",
     "text": [
      "Dataset               = 1\n",
      "Method                = levmar\n",
      "Statistic             = leastsq\n",
      "Initial fit statistic = 617832\n",
      "Final fit statistic   = 570162 at function evaluation 4\n",
      "Data points           = 50\n",
      "Degrees of freedom    = 49\n",
      "Change in statistic   = 47670.2\n",
      "   mdl.c0         110.857     \n"
     ]
    },
    {
     "name": "stderr",
     "output_type": "stream",
     "text": [
      "INFO:sherpa.ui.utils:Dataset               = 1\n",
      "Method                = levmar\n",
      "Statistic             = leastsq\n",
      "Initial fit statistic = 617832\n",
      "Final fit statistic   = 570162 at function evaluation 4\n",
      "Data points           = 50\n",
      "Degrees of freedom    = 49\n",
      "Change in statistic   = 47670.2\n",
      "   mdl.c0         110.857     \n"
     ]
    }
   ],
   "source": [
    "ui.fit()"
   ]
  },
  {
   "cell_type": "code",
   "execution_count": 47,
   "metadata": {
    "collapsed": false
   },
   "outputs": [],
   "source": [
    "# Back to initial guess\n",
    "t.assertEqualTol(c0_init_fit, mdl.c0.val, tol=1e-4, msg=\"fitted value (c0)\")"
   ]
  },
  {
   "cell_type": "code",
   "execution_count": 48,
   "metadata": {
    "collapsed": false
   },
   "outputs": [],
   "source": [
    "t.assertEqualTol(stat_init_fit, fr.statval, tol=1e-3, msg=\"final fit statistic\")"
   ]
  },
  {
   "cell_type": "markdown",
   "metadata": {},
   "source": [
    "## Free up other parameters"
   ]
  },
  {
   "cell_type": "code",
   "execution_count": 49,
   "metadata": {
    "collapsed": true
   },
   "outputs": [],
   "source": [
    "mdl.c0 = 1"
   ]
  },
  {
   "cell_type": "code",
   "execution_count": 50,
   "metadata": {
    "collapsed": false
   },
   "outputs": [],
   "source": [
    "ui.thaw(mdl.c1)\n",
    "mdl.c2.frozen = False"
   ]
  },
  {
   "cell_type": "code",
   "execution_count": 51,
   "metadata": {
    "collapsed": false
   },
   "outputs": [],
   "source": [
    "t.assertEqual([1.0, 0.0, 0.0], mdl.thawedpars)"
   ]
  },
  {
   "cell_type": "code",
   "execution_count": 52,
   "metadata": {
    "collapsed": false
   },
   "outputs": [
    {
     "name": "stdout",
     "output_type": "stream",
     "text": [
      "Dataset               = 1\n",
      "Method                = levmar\n",
      "Statistic             = leastsq\n",
      "Initial fit statistic = 1.17359e+06\n",
      "Final fit statistic   = 4662.82 at function evaluation 16\n",
      "Data points           = 50\n",
      "Degrees of freedom    = 47\n",
      "Change in statistic   = 1.16893e+06\n",
      "   mdl.c0         11.7278     \n",
      "   mdl.c1         -1.8543     \n",
      "   mdl.c2         0.0267718   \n"
     ]
    },
    {
     "name": "stderr",
     "output_type": "stream",
     "text": [
      "INFO:sherpa.ui.utils:Dataset               = 1\n",
      "Method                = levmar\n",
      "Statistic             = leastsq\n",
      "Initial fit statistic = 1.17359e+06\n",
      "Final fit statistic   = 4662.82 at function evaluation 16\n",
      "Data points           = 50\n",
      "Degrees of freedom    = 47\n",
      "Change in statistic   = 1.16893e+06\n",
      "   mdl.c0         11.7278     \n",
      "   mdl.c1         -1.8543     \n",
      "   mdl.c2         0.0267718   \n"
     ]
    }
   ],
   "source": [
    "ui.fit()"
   ]
  },
  {
   "cell_type": "code",
   "execution_count": 53,
   "metadata": {
    "collapsed": true
   },
   "outputs": [],
   "source": [
    "fr = ui.get_fit_results()"
   ]
  },
  {
   "cell_type": "code",
   "execution_count": 54,
   "metadata": {
    "collapsed": true
   },
   "outputs": [],
   "source": [
    "t.assertTrue(fr.succeeded, 'fit 2 succeeded')"
   ]
  },
  {
   "cell_type": "code",
   "execution_count": 55,
   "metadata": {
    "collapsed": true
   },
   "outputs": [],
   "source": [
    "t.assertTrue(fr.nfev < 20, 'fit 2 was quite quick')"
   ]
  },
  {
   "cell_type": "code",
   "execution_count": 56,
   "metadata": {
    "collapsed": false
   },
   "outputs": [
    {
     "name": "stdout",
     "output_type": "stream",
     "text": [
      "Dataset               = 1\n",
      "Method                = levmar\n",
      "Statistic             = leastsq\n",
      "Initial fit statistic = 4662.82\n",
      "Final fit statistic   = 4662.82 at function evaluation 4\n",
      "Data points           = 50\n",
      "Degrees of freedom    = 47\n",
      "Change in statistic   = 0\n",
      "   mdl.c0         11.7278     \n",
      "   mdl.c1         -1.8543     \n",
      "   mdl.c2         0.0267718   \n"
     ]
    },
    {
     "name": "stderr",
     "output_type": "stream",
     "text": [
      "INFO:sherpa.ui.utils:Dataset               = 1\n",
      "Method                = levmar\n",
      "Statistic             = leastsq\n",
      "Initial fit statistic = 4662.82\n",
      "Final fit statistic   = 4662.82 at function evaluation 4\n",
      "Data points           = 50\n",
      "Degrees of freedom    = 47\n",
      "Change in statistic   = 0\n",
      "   mdl.c0         11.7278     \n",
      "   mdl.c1         -1.8543     \n",
      "   mdl.c2         0.0267718   \n"
     ]
    }
   ],
   "source": [
    "ui.fit()"
   ]
  },
  {
   "cell_type": "code",
   "execution_count": 57,
   "metadata": {
    "collapsed": true
   },
   "outputs": [],
   "source": [
    "fr2 = ui.get_fit_results()"
   ]
  },
  {
   "cell_type": "code",
   "execution_count": 58,
   "metadata": {
    "collapsed": false
   },
   "outputs": [],
   "source": [
    "t.assertTrue(fr2.succeeded, 'fit 3 succeeded')"
   ]
  },
  {
   "cell_type": "code",
   "execution_count": 59,
   "metadata": {
    "collapsed": true
   },
   "outputs": [],
   "source": [
    "t.assertTrue(fr2.nfev < 10, 'fit 3 was quick')"
   ]
  },
  {
   "cell_type": "code",
   "execution_count": 60,
   "metadata": {
    "collapsed": false
   },
   "outputs": [],
   "source": [
    "t.assertTrue(not (fr == fr2), 'fit results are different')"
   ]
  },
  {
   "cell_type": "code",
   "execution_count": 61,
   "metadata": {
    "collapsed": false
   },
   "outputs": [],
   "source": [
    "# regression test\n",
    "par3_stat_val = 4662.824352783388\n",
    "t.assertEqualTol(par3_stat_val, fr2.statval, tol=1e-4, msg='fit 3 stat value')"
   ]
  },
  {
   "cell_type": "code",
   "execution_count": 62,
   "metadata": {
    "collapsed": true
   },
   "outputs": [],
   "source": [
    "t.assertEqual(npts - 3, fr2.dof, msg='fit 3 dof')"
   ]
  },
  {
   "cell_type": "code",
   "execution_count": 63,
   "metadata": {
    "collapsed": false
   },
   "outputs": [],
   "source": [
    "t.assertEqualTol(a0_fit, mdl.c0.val, tol=a0_tol, msg='fit 3: c0 value')\n",
    "t.assertEqualTol(a1_fit, mdl.c1.val, tol=a1_tol, msg='fit 3: c1 value')\n",
    "t.assertEqualTol(a2_fit, mdl.c2.val, tol=a2_tol, msg='fit 3: c2 value')"
   ]
  },
  {
   "cell_type": "code",
   "execution_count": 64,
   "metadata": {
    "collapsed": false
   },
   "outputs": [
    {
     "name": "stdout",
     "output_type": "stream",
     "text": [
      "WARNING: The displayed errorbars have been supplied with the data or calculated using chi2xspecvar; the errors are not used in fits with leastsq\n"
     ]
    },
    {
     "name": "stderr",
     "output_type": "stream",
     "text": [
      "WARNING:sherpa.plot:The displayed errorbars have been supplied with the data or calculated using chi2xspecvar; the errors are not used in fits with leastsq\n"
     ]
    },
    {
     "name": "stdout",
     "output_type": "stream",
     "text": [
      "WARNING: The displayed errorbars have been supplied with the data or calculated using chi2xspecvar; the errors are not used in fits with leastsq\n"
     ]
    },
    {
     "name": "stderr",
     "output_type": "stream",
     "text": [
      "WARNING:sherpa.plot:The displayed errorbars have been supplied with the data or calculated using chi2xspecvar; the errors are not used in fits with leastsq\n"
     ]
    },
    {
     "data": {
      "image/png": "[encoded data removed]",
      "text/plain": [
       "<matplotlib.figure.Figure at 0x7efc6e19e790>"
      ]
     },
     "metadata": {},
     "output_type": "display_data"
    }
   ],
   "source": [
    "# It looks like this plot assumes that the data is ordered\n",
    "ui.plot_fit_resid()"
   ]
  },
  {
   "cell_type": "markdown",
   "metadata": {},
   "source": [
    "## Using the ordered version of the dataset"
   ]
  },
  {
   "cell_type": "code",
   "execution_count": 65,
   "metadata": {
    "collapsed": true
   },
   "outputs": [],
   "source": [
    "idx = np.argsort(x)\n",
    "xsort = x[idx]\n",
    "ysort = y[idx]"
   ]
  },
  {
   "cell_type": "code",
   "execution_count": 66,
   "metadata": {
    "collapsed": true
   },
   "outputs": [],
   "source": [
    "ui.load_arrays('sorted', xsort, ysort)"
   ]
  },
  {
   "cell_type": "code",
   "execution_count": 67,
   "metadata": {
    "collapsed": true
   },
   "outputs": [],
   "source": [
    "s1 = set([1, 'sorted'])\n",
    "s2 = set(ui.list_data_ids())\n",
    "t.assertEqual(s1, s2, msg='loaded data sets')"
   ]
  },
  {
   "cell_type": "code",
   "execution_count": 68,
   "metadata": {
    "collapsed": true
   },
   "outputs": [],
   "source": [
    "flag = False\n",
    "try:\n",
    "    ui.get_source('sorted')\n",
    "except err.IdentifierErr:\n",
    "    flag = True\n",
    "    \n",
    "t.assertTrue(flag, msg='no source for dataset=sorted')"
   ]
  },
  {
   "cell_type": "code",
   "execution_count": 69,
   "metadata": {
    "collapsed": true
   },
   "outputs": [],
   "source": [
    "t.assertEqual(d, ui.get_data(), msg='default dataset values unchanged')"
   ]
  },
  {
   "cell_type": "code",
   "execution_count": 70,
   "metadata": {
    "collapsed": true
   },
   "outputs": [],
   "source": [
    "d2 = ui.get_data('sorted')"
   ]
  },
  {
   "cell_type": "code",
   "execution_count": 71,
   "metadata": {
    "collapsed": true
   },
   "outputs": [],
   "source": [
    "t.assertTrue(not (d == d2), msg='datasets are different')"
   ]
  },
  {
   "cell_type": "code",
   "execution_count": 72,
   "metadata": {
    "collapsed": false
   },
   "outputs": [
    {
     "name": "stdout",
     "output_type": "stream",
     "text": [
      "WARNING: The displayed errorbars have been supplied with the data or calculated using chi2xspecvar; the errors are not used in fits with leastsq\n"
     ]
    },
    {
     "name": "stderr",
     "output_type": "stream",
     "text": [
      "WARNING:sherpa.plot:The displayed errorbars have been supplied with the data or calculated using chi2xspecvar; the errors are not used in fits with leastsq\n"
     ]
    },
    {
     "name": "stdout",
     "output_type": "stream",
     "text": [
      "WARNING: The displayed errorbars have been supplied with the data or calculated using chi2xspecvar; the errors are not used in fits with leastsq\n"
     ]
    },
    {
     "name": "stderr",
     "output_type": "stream",
     "text": [
      "WARNING:sherpa.plot:The displayed errorbars have been supplied with the data or calculated using chi2xspecvar; the errors are not used in fits with leastsq\n"
     ]
    },
    {
     "data": {
      "image/png": "[encoded data removed]",
      "text/plain": [
       "<matplotlib.figure.Figure at 0x7efc6e1ff2d0>"
      ]
     },
     "metadata": {},
     "output_type": "display_data"
    }
   ],
   "source": [
    "# The two data sets should be identical when plotted\n",
    "ui.plot_data()\n",
    "ui.plot_data('sorted', overplot=True)"
   ]
  },
  {
   "cell_type": "code",
   "execution_count": 73,
   "metadata": {
    "collapsed": false
   },
   "outputs": [],
   "source": [
    "ui.set_source('sorted', ui.polynom1d.mdl2)\n",
    "ui.thaw(mdl2.c1, mdl2.c2)"
   ]
  },
  {
   "cell_type": "code",
   "execution_count": 74,
   "metadata": {
    "collapsed": true
   },
   "outputs": [],
   "source": [
    "m1 = set(['mdl', 'mdl2'])\n",
    "m2 = set(ui.list_model_components())\n",
    "t.assertEqual(m1, m2, msg='available model components')"
   ]
  },
  {
   "cell_type": "code",
   "execution_count": 75,
   "metadata": {
    "collapsed": false
   },
   "outputs": [
    {
     "name": "stdout",
     "output_type": "stream",
     "text": [
      "Dataset               = sorted\n",
      "Method                = levmar\n",
      "Statistic             = leastsq\n",
      "Initial fit statistic = 1.17359e+06\n",
      "Final fit statistic   = 4662.82 at function evaluation 16\n",
      "Data points           = 50\n",
      "Degrees of freedom    = 47\n",
      "Change in statistic   = 1.16893e+06\n",
      "   mdl2.c0        11.7278     \n",
      "   mdl2.c1        -1.8543     \n",
      "   mdl2.c2        0.0267718   \n"
     ]
    },
    {
     "name": "stderr",
     "output_type": "stream",
     "text": [
      "INFO:sherpa.ui.utils:Dataset               = sorted\n",
      "Method                = levmar\n",
      "Statistic             = leastsq\n",
      "Initial fit statistic = 1.17359e+06\n",
      "Final fit statistic   = 4662.82 at function evaluation 16\n",
      "Data points           = 50\n",
      "Degrees of freedom    = 47\n",
      "Change in statistic   = 1.16893e+06\n",
      "   mdl2.c0        11.7278     \n",
      "   mdl2.c1        -1.8543     \n",
      "   mdl2.c2        0.0267718   \n"
     ]
    }
   ],
   "source": [
    "ui.fit('sorted')"
   ]
  },
  {
   "cell_type": "code",
   "execution_count": 76,
   "metadata": {
    "collapsed": true
   },
   "outputs": [],
   "source": [
    "fsort = ui.get_fit_results()"
   ]
  },
  {
   "cell_type": "code",
   "execution_count": 77,
   "metadata": {
    "collapsed": false
   },
   "outputs": [],
   "source": [
    "t.assertEqual(('sorted',), fsort.datasets, msg='fit was only to dataset=sorted')"
   ]
  },
  {
   "cell_type": "code",
   "execution_count": 78,
   "metadata": {
    "collapsed": true
   },
   "outputs": [],
   "source": [
    "t.assertTrue(fsort.succeeded, msg='fit to sorted was successful')"
   ]
  },
  {
   "cell_type": "code",
   "execution_count": 79,
   "metadata": {
    "collapsed": false
   },
   "outputs": [],
   "source": [
    "t.assertEqualTol(a0_fit, mdl2.c0.val, tol=a0_tol, msg='fit sorted: c0 value')\n",
    "t.assertEqualTol(a1_fit, mdl2.c1.val, tol=a1_tol, msg='fit sorted: c1 value')\n",
    "t.assertEqualTol(a2_fit, mdl2.c2.val, tol=a2_tol, msg='fit sorted: c2 value')"
   ]
  },
  {
   "cell_type": "code",
   "execution_count": 80,
   "metadata": {
    "collapsed": true
   },
   "outputs": [],
   "source": [
    "t.assertEqualTol(par3_stat_val, fsort.statval, tol=1e-4, msg='sorted fit stat value')"
   ]
  },
  {
   "cell_type": "code",
   "execution_count": 81,
   "metadata": {
    "collapsed": false
   },
   "outputs": [
    {
     "name": "stdout",
     "output_type": "stream",
     "text": [
      "WARNING: The displayed errorbars have been supplied with the data or calculated using chi2xspecvar; the errors are not used in fits with leastsq\n"
     ]
    },
    {
     "name": "stderr",
     "output_type": "stream",
     "text": [
      "WARNING:sherpa.plot:The displayed errorbars have been supplied with the data or calculated using chi2xspecvar; the errors are not used in fits with leastsq\n"
     ]
    },
    {
     "data": {
      "image/png": "[encoded data removed]",
      "text/plain": [
       "<matplotlib.figure.Figure at 0x7efc703ccc90>"
      ]
     },
     "metadata": {},
     "output_type": "display_data"
    }
   ],
   "source": [
    "ui.plot_fit('sorted')"
   ]
  },
  {
   "cell_type": "code",
   "execution_count": 82,
   "metadata": {
    "collapsed": false
   },
   "outputs": [
    {
     "name": "stdout",
     "output_type": "stream",
     "text": [
      "WARNING: The displayed errorbars have been supplied with the data or calculated using chi2xspecvar; the errors are not used in fits with leastsq\n"
     ]
    },
    {
     "name": "stderr",
     "output_type": "stream",
     "text": [
      "WARNING:sherpa.plot:The displayed errorbars have been supplied with the data or calculated using chi2xspecvar; the errors are not used in fits with leastsq\n"
     ]
    }
   ],
   "source": [
    "plot = ui.get_fit_plot('sorted')"
   ]
  },
  {
   "cell_type": "code",
   "execution_count": 83,
   "metadata": {
    "collapsed": false
   },
   "outputs": [],
   "source": [
    "t.assertEqual('', plot.dataplot.title, msg='fit plot: plot title')\n",
    "t.assertEqual('x', plot.dataplot.xlabel, msg='fit plot: x label')\n",
    "t.assertEqual('y', plot.dataplot.ylabel, msg='fit plot: y label')"
   ]
  },
  {
   "cell_type": "code",
   "execution_count": 84,
   "metadata": {
    "collapsed": false
   },
   "outputs": [
    {
     "name": "stdout",
     "output_type": "stream",
     "text": [
      "WARNING: The displayed errorbars have been supplied with the data or calculated using chi2xspecvar; the errors are not used in fits with leastsq\n"
     ]
    },
    {
     "name": "stderr",
     "output_type": "stream",
     "text": [
      "WARNING:sherpa.plot:The displayed errorbars have been supplied with the data or calculated using chi2xspecvar; the errors are not used in fits with leastsq\n"
     ]
    },
    {
     "data": {
      "image/png": "[encoded data removed]",
      "text/plain": [
       "<matplotlib.figure.Figure at 0x7efc6e05f2d0>"
      ]
     },
     "metadata": {},
     "output_type": "display_data"
    }
   ],
   "source": [
    "ui.plot_resid('sorted')"
   ]
  },
  {
   "cell_type": "code",
   "execution_count": 85,
   "metadata": {
    "collapsed": false
   },
   "outputs": [
    {
     "name": "stdout",
     "output_type": "stream",
     "text": [
      "WARNING: The displayed errorbars have been supplied with the data or calculated using chi2xspecvar; the errors are not used in fits with leastsq\n"
     ]
    },
    {
     "name": "stderr",
     "output_type": "stream",
     "text": [
      "WARNING:sherpa.plot:The displayed errorbars have been supplied with the data or calculated using chi2xspecvar; the errors are not used in fits with leastsq\n"
     ]
    }
   ],
   "source": [
    "plot = ui.get_resid_plot()"
   ]
  },
  {
   "cell_type": "code",
   "execution_count": 86,
   "metadata": {
    "collapsed": false
   },
   "outputs": [],
   "source": [
    "t.assertEqual('Residuals', plot.title, msg='residual plot: plot title')\n",
    "t.assertEqual('x', plot.xlabel, msg='residual plot: x label')\n",
    "t.assertEqual('Data - Model', plot.ylabel, msg='residual plot: y label')"
   ]
  },
  {
   "cell_type": "markdown",
   "metadata": {},
   "source": [
    "## Check fit to both"
   ]
  },
  {
   "cell_type": "code",
   "execution_count": 87,
   "metadata": {
    "collapsed": false
   },
   "outputs": [],
   "source": [
    "ui.reset(id=1, model=mdl)\n",
    "ui.reset(id='sorted', model=mdl2)"
   ]
  },
  {
   "cell_type": "code",
   "execution_count": 88,
   "metadata": {
    "collapsed": false
   },
   "outputs": [],
   "source": [
    "# parvals = [par_exp, 0.0, 0.0]\n",
    "parvals = [1.0, 0.0, 0.0]\n",
    "t.assertEqual(parvals, mdl.thawedpars, msg='mdl after reset')\n",
    "t.assertEqual(parvals, mdl2.thawedpars, msg='mdl2 after reset')"
   ]
  },
  {
   "cell_type": "code",
   "execution_count": 89,
   "metadata": {
    "collapsed": false
   },
   "outputs": [
    {
     "name": "stdout",
     "output_type": "stream",
     "text": [
      "Datasets              = 1, 'sorted'\n",
      "Method                = levmar\n",
      "Statistic             = leastsq\n",
      "Initial fit statistic = 2.34719e+06\n",
      "Final fit statistic   = 9325.65 at function evaluation 28\n",
      "Data points           = 100\n",
      "Degrees of freedom    = 94\n",
      "Change in statistic   = 2.33786e+06\n",
      "   mdl.c0         11.7278     \n",
      "   mdl.c1         -1.8543     \n",
      "   mdl.c2         0.0267718   \n",
      "   mdl2.c0        11.7278     \n",
      "   mdl2.c1        -1.8543     \n",
      "   mdl2.c2        0.0267718   \n"
     ]
    },
    {
     "name": "stderr",
     "output_type": "stream",
     "text": [
      "INFO:sherpa.ui.utils:Datasets              = 1, 'sorted'\n",
      "Method                = levmar\n",
      "Statistic             = leastsq\n",
      "Initial fit statistic = 2.34719e+06\n",
      "Final fit statistic   = 9325.65 at function evaluation 28\n",
      "Data points           = 100\n",
      "Degrees of freedom    = 94\n",
      "Change in statistic   = 2.33786e+06\n",
      "   mdl.c0         11.7278     \n",
      "   mdl.c1         -1.8543     \n",
      "   mdl.c2         0.0267718   \n",
      "   mdl2.c0        11.7278     \n",
      "   mdl2.c1        -1.8543     \n",
      "   mdl2.c2        0.0267718   \n"
     ]
    }
   ],
   "source": [
    "ui.fit()"
   ]
  },
  {
   "cell_type": "code",
   "execution_count": 90,
   "metadata": {
    "collapsed": true
   },
   "outputs": [],
   "source": [
    "fall = ui.get_fit_results()"
   ]
  },
  {
   "cell_type": "code",
   "execution_count": 91,
   "metadata": {
    "collapsed": false
   },
   "outputs": [],
   "source": [
    "t.assertEqual((1, 'sorted'), fall.datasets, msg='combined fit')\n",
    "t.assertEqual(npts * 2 - 6, fall.dof, msg='combined dof')\n",
    "t.assertEqualTol(2 * par3_stat_val, fall.statval, tol=2e-3, msg='combined stat')"
   ]
  },
  {
   "cell_type": "code",
   "execution_count": 92,
   "metadata": {
    "collapsed": true
   },
   "outputs": [],
   "source": [
    "t.assertEqualTol(a0_fit, mdl.c0.val, tol=a0_tol, msg='combined fit: mdl c0 value')\n",
    "t.assertEqualTol(a1_fit, mdl.c1.val, tol=a1_tol, msg='combined fit: mdl c1 value')\n",
    "t.assertEqualTol(a2_fit, mdl.c2.val, tol=a2_tol, msg='combined fit: mdl c2 value')\n",
    "\n",
    "t.assertEqualTol(a0_fit, mdl2.c0.val, tol=a0_tol, msg='combined fit: mdl2 c0 value')\n",
    "t.assertEqualTol(a1_fit, mdl2.c1.val, tol=a1_tol, msg='combined fit: mdl2 c1 value')\n",
    "t.assertEqualTol(a2_fit, mdl2.c2.val, tol=a2_tol, msg='combined fit: mdl2 c2 value')"
   ]
  },
  {
   "cell_type": "markdown",
   "metadata": {},
   "source": [
    "## How about errors?\n",
    "\n",
    "None of the \"chi square\" variants in Sherpa 4.8 are useful here, so supply an error array,\n",
    "which \"magically\" has the correct value."
   ]
  },
  {
   "cell_type": "code",
   "execution_count": 93,
   "metadata": {
    "collapsed": false
   },
   "outputs": [],
   "source": [
    "errs = np.zeros_like(ysort) + sigma"
   ]
  },
  {
   "cell_type": "code",
   "execution_count": 94,
   "metadata": {
    "collapsed": false
   },
   "outputs": [],
   "source": [
    "ui.set_staterror('sorted', errs)\n",
    "ui.set_stat('chi2')"
   ]
  },
  {
   "cell_type": "code",
   "execution_count": 95,
   "metadata": {
    "collapsed": true
   },
   "outputs": [],
   "source": [
    "t.assertEqual('chi2', ui.get_stat_name())"
   ]
  },
  {
   "cell_type": "code",
   "execution_count": 96,
   "metadata": {
    "collapsed": true
   },
   "outputs": [],
   "source": [
    "ui.reset(id='sorted', model=mdl2)"
   ]
  },
  {
   "cell_type": "code",
   "execution_count": 97,
   "metadata": {
    "collapsed": true
   },
   "outputs": [],
   "source": [
    "# After the reset, the model evaluates to 1\n",
    "exp_stat_chi = (((ysort - 1.0) / errs)**2).sum()\n",
    "t.assertEqualTol(exp_stat_chi, ui.calc_stat('sorted'), msg='chi square statistic (starting value)')"
   ]
  },
  {
   "cell_type": "code",
   "execution_count": 98,
   "metadata": {
    "collapsed": false
   },
   "outputs": [
    {
     "name": "stdout",
     "output_type": "stream",
     "text": [
      "Dataset               = sorted\n",
      "Method                = levmar\n",
      "Statistic             = chi2\n",
      "Initial fit statistic = 11735.9\n",
      "Final fit statistic   = 46.6282 at function evaluation 16\n",
      "Data points           = 50\n",
      "Degrees of freedom    = 47\n",
      "Probability [Q-value] = 0.487862\n",
      "Reduced statistic     = 0.99209\n",
      "Change in statistic   = 11689.3\n",
      "   mdl2.c0        11.7278     \n",
      "   mdl2.c1        -1.8543     \n",
      "   mdl2.c2        0.0267718   \n"
     ]
    },
    {
     "name": "stderr",
     "output_type": "stream",
     "text": [
      "INFO:sherpa.ui.utils:Dataset               = sorted\n",
      "Method                = levmar\n",
      "Statistic             = chi2\n",
      "Initial fit statistic = 11735.9\n",
      "Final fit statistic   = 46.6282 at function evaluation 16\n",
      "Data points           = 50\n",
      "Degrees of freedom    = 47\n",
      "Probability [Q-value] = 0.487862\n",
      "Reduced statistic     = 0.99209\n",
      "Change in statistic   = 11689.3\n",
      "   mdl2.c0        11.7278     \n",
      "   mdl2.c1        -1.8543     \n",
      "   mdl2.c2        0.0267718   \n"
     ]
    }
   ],
   "source": [
    "ui.fit('sorted')"
   ]
  },
  {
   "cell_type": "code",
   "execution_count": 99,
   "metadata": {
    "collapsed": true
   },
   "outputs": [],
   "source": [
    "fsort = ui.get_fit_results()"
   ]
  },
  {
   "cell_type": "code",
   "execution_count": 100,
   "metadata": {
    "collapsed": false
   },
   "outputs": [],
   "source": [
    "t.assertTrue(fsort.succeeded, msg='chi2 fit succeeded')\n",
    "t.assertEqual('chi2', fsort.statname, msg='fit used chi2')"
   ]
  },
  {
   "cell_type": "code",
   "execution_count": 101,
   "metadata": {
    "collapsed": false
   },
   "outputs": [],
   "source": [
    "# We would hope to get a reduced chi-square of 1 here, since the errors are \"perfect\"\n",
    "t.assertEqualTol(1.0, fsort.rstat, tol=0.01, msg=\"reduced chi square from fit\")"
   ]
  },
  {
   "cell_type": "code",
   "execution_count": 102,
   "metadata": {
    "collapsed": true
   },
   "outputs": [],
   "source": [
    "# As the errors are all the same, the result should be the same as the least squares\n",
    "# result\n",
    "t.assertEqualTol(a0_fit, mdl2.c0.val, tol=a0_tol, msg='fit chi2: c0 value')\n",
    "t.assertEqualTol(a1_fit, mdl2.c1.val, tol=a1_tol, msg='fit chi2: c1 value')\n",
    "t.assertEqualTol(a2_fit, mdl2.c2.val, tol=a2_tol, msg='fit chi2: c2 value')"
   ]
  },
  {
   "cell_type": "code",
   "execution_count": 103,
   "metadata": {
    "collapsed": false
   },
   "outputs": [
    {
     "data": {
      "image/png": "[encoded data removed]",
      "text/plain": [
       "<matplotlib.figure.Figure at 0x7efc6dfbe210>"
      ]
     },
     "metadata": {},
     "output_type": "display_data"
    }
   ],
   "source": [
    "ui.plot_fit('sorted')"
   ]
  },
  {
   "cell_type": "code",
   "execution_count": 104,
   "metadata": {
    "collapsed": false
   },
   "outputs": [
    {
     "data": {
      "image/png": "[encoded data removed]",
      "text/plain": [
       "<matplotlib.figure.Figure at 0x7efc6de67410>"
      ]
     },
     "metadata": {},
     "output_type": "display_data"
    }
   ],
   "source": [
    "ui.plot_resid('sorted')"
   ]
  },
  {
   "cell_type": "code",
   "execution_count": 105,
   "metadata": {
    "collapsed": false
   },
   "outputs": [
    {
     "data": {
      "image/png": "[encoded data removed]",
      "text/plain": [
       "<matplotlib.figure.Figure at 0x7efc6ddce0d0>"
      ]
     },
     "metadata": {},
     "output_type": "display_data"
    }
   ],
   "source": [
    "# Can now plot \"delchi\"\n",
    "ui.plot_delchi('sorted')"
   ]
  },
  {
   "cell_type": "code",
   "execution_count": 106,
   "metadata": {
    "collapsed": false
   },
   "outputs": [],
   "source": [
    "plot = ui.get_delchi_plot('sorted')\n",
    "t.assertEqual('Sigma Residuals', plot.title, msg='delchi plot: title')\n",
    "t.assertEqual('x', plot.xlabel, msg='delchi plot: x axis')\n",
    "t.assertEqual('Sigma', plot.ylabel, msg='delchi plot: y axis')"
   ]
  },
  {
   "cell_type": "code",
   "execution_count": 107,
   "metadata": {
    "collapsed": false
   },
   "outputs": [
    {
     "name": "stdout",
     "output_type": "stream",
     "text": [
      "Dataset               = sorted\n",
      "Confidence Method     = covariance\n",
      "Iterative Fit Method  = None\n",
      "Fitting Method        = levmar\n",
      "Statistic             = chi2\n",
      "covariance 1-sigma (68.2689%) bounds:\n",
      "   Param            Best-Fit  Lower Bound  Upper Bound\n",
      "   -----            --------  -----------  -----------\n",
      "   mdl2.c0           11.7278     -19.5753      19.5753\n",
      "   mdl2.c1           -1.8543    -0.421558     0.421558\n",
      "   mdl2.c2         0.0267718  -0.00210099   0.00210099\n"
     ]
    },
    {
     "name": "stderr",
     "output_type": "stream",
     "text": [
      "INFO:sherpa.ui.utils:Dataset               = sorted\n",
      "Confidence Method     = covariance\n",
      "Iterative Fit Method  = None\n",
      "Fitting Method        = levmar\n",
      "Statistic             = chi2\n",
      "covariance 1-sigma (68.2689%) bounds:\n",
      "   Param            Best-Fit  Lower Bound  Upper Bound\n",
      "   -----            --------  -----------  -----------\n",
      "   mdl2.c0           11.7278     -19.5753      19.5753\n",
      "   mdl2.c1           -1.8543    -0.421558     0.421558\n",
      "   mdl2.c2         0.0267718  -0.00210099   0.00210099\n"
     ]
    }
   ],
   "source": [
    "ui.covar('sorted')"
   ]
  },
  {
   "cell_type": "code",
   "execution_count": 108,
   "metadata": {
    "collapsed": true
   },
   "outputs": [],
   "source": [
    "cov = ui.get_covar_results()"
   ]
  },
  {
   "cell_type": "code",
   "execution_count": 109,
   "metadata": {
    "collapsed": false
   },
   "outputs": [],
   "source": [
    "onesig = 68.268949\n",
    "t.assertEqualTol(onesig, cov.percent, tol=1e-6, msg='covar errors are 1 sigma')\n",
    "t.assertEqual(('mdl2.c0', 'mdl2.c1', 'mdl2.c2'), cov.parnames, msg='covar works on the correct parameters')\n",
    "\n",
    "parvals = np.asarray([a0_fit, a1_fit, a2_fit])\n",
    "partol = np.max([a0_tol, a1_tol, a2_tol])\n",
    "t.assertEqualTol(parvals, np.asarray(cov.parvals), tol=partol, msg='covar is using the correct position')\n",
    "\n",
    "parmaxs = np.asarray([19.575257, 0.421558, 0.002101])\n",
    "parmins = -1 * parmaxs\n",
    "t.assertEqualTol(parmins, np.asarray(cov.parmins), tol=partol, msg='covar min vals')\n",
    "t.assertEqualTol(parmaxs, np.asarray(cov.parmaxes), tol=partol, msg='covar max vals')"
   ]
  },
  {
   "cell_type": "code",
   "execution_count": 110,
   "metadata": {
    "collapsed": false
   },
   "outputs": [
    {
     "name": "stdout",
     "output_type": "stream",
     "text": [
      "Dataset               = sorted\n",
      "Confidence Method     = confidence\n",
      "Iterative Fit Method  = None\n",
      "Fitting Method        = levmar\n",
      "Statistic             = chi2\n",
      "confidence 1-sigma (68.2689%) bounds:\n",
      "   Param            Best-Fit  Lower Bound  Upper Bound\n",
      "   -----            --------  -----------  -----------\n",
      "   mdl2.c0           11.7278     -19.5753      19.5753\n",
      "   mdl2.c1           -1.8543    -0.421558     0.421558\n",
      "   mdl2.c2         0.0267718  -0.00210099   0.00210099\n",
      "mdl2.c0 lower bound:\t-19.5753\n",
      "mdl2.c1 lower bound:\t-0.421558\n",
      "mdl2.c2 lower bound:\t-0.00210099\n",
      "mdl2.c0 upper bound:\t19.5753\n",
      "mdl2.c1 upper bound:\t0.421558\n",
      "mdl2.c2 upper bound:\t0.00210099\n"
     ]
    },
    {
     "name": "stderr",
     "output_type": "stream",
     "text": [
      "INFO:sherpa.ui.utils:Dataset               = sorted\n",
      "Confidence Method     = confidence\n",
      "Iterative Fit Method  = None\n",
      "Fitting Method        = levmar\n",
      "Statistic             = chi2\n",
      "confidence 1-sigma (68.2689%) bounds:\n",
      "   Param            Best-Fit  Lower Bound  Upper Bound\n",
      "   -----            --------  -----------  -----------\n",
      "   mdl2.c0           11.7278     -19.5753      19.5753\n",
      "   mdl2.c1           -1.8543    -0.421558     0.421558\n",
      "   mdl2.c2         0.0267718  -0.00210099   0.00210099\n",
      "INFO:sherpa:mdl2.c0 lower bound:\t-19.5753\n",
      "INFO:sherpa:mdl2.c1 lower bound:\t-0.421558\n",
      "INFO:sherpa:mdl2.c2 lower bound:\t-0.00210099\n",
      "INFO:sherpa:mdl2.c0 upper bound:\t19.5753\n",
      "INFO:sherpa:mdl2.c1 upper bound:\t0.421558\n",
      "INFO:sherpa:mdl2.c2 upper bound:\t0.00210099\n"
     ]
    }
   ],
   "source": [
    "ui.conf('sorted')"
   ]
  },
  {
   "cell_type": "code",
   "execution_count": 111,
   "metadata": {
    "collapsed": true
   },
   "outputs": [],
   "source": [
    "conf = ui.get_conf_results()"
   ]
  },
  {
   "cell_type": "code",
   "execution_count": 112,
   "metadata": {
    "collapsed": false
   },
   "outputs": [],
   "source": [
    "# In this case I expect the covariance and confidence methods to give\n",
    "# very similar answers\n",
    "t.assertEqualTol(onesig, conf.percent, tol=1e-6, msg='conf errors are 1 sigma')\n",
    "t.assertEqual(('mdl2.c0', 'mdl2.c1', 'mdl2.c2'), cov.parnames, msg='conf works on the correct parameters')\n",
    "\n",
    "parvals = np.asarray([a0_fit, a1_fit, a2_fit])\n",
    "partol = np.max([a0_tol, a1_tol, a2_tol])\n",
    "t.assertEqualTol(parvals, np.asarray(conf.parvals), tol=partol, msg='conf is using the correct position')\n",
    "\n",
    "parmaxs = np.asarray([19.575257, 0.421558, 0.002101])\n",
    "parmins = -1 * parmaxs\n",
    "t.assertEqualTol(parmins, np.asarray(conf.parmins), tol=partol, msg='conf min vals')\n",
    "t.assertEqualTol(parmaxs, np.asarray(conf.parmaxes), tol=partol, msg='conf max vals')"
   ]
  },
  {
   "cell_type": "code",
   "execution_count": 113,
   "metadata": {
    "collapsed": false
   },
   "outputs": [
    {
     "data": {
      "image/png": "[encoded data removed]",
      "text/plain": [
       "<matplotlib.figure.Figure at 0x7efc6dde03d0>"
      ]
     },
     "metadata": {},
     "output_type": "display_data"
    }
   ],
   "source": [
    "ui.int_proj(mdl2.c1, id='sorted')"
   ]
  },
  {
   "cell_type": "code",
   "execution_count": 114,
   "metadata": {
    "collapsed": false
   },
   "outputs": [],
   "source": [
    "iproj = ui.get_int_proj(recalc=False)"
   ]
  },
  {
   "cell_type": "code",
   "execution_count": 115,
   "metadata": {
    "collapsed": false
   },
   "outputs": [],
   "source": [
    "t.assertEqual('mdl2.c1', iproj.xlabel, msg='iproj x-axis label')\n",
    "t.assertEqual('Statistic Value', iproj.ylabel, msg='iproj y-axis label')\n",
    "# Really should check some numeric values"
   ]
  },
  {
   "cell_type": "code",
   "execution_count": 116,
   "metadata": {
    "collapsed": false
   },
   "outputs": [],
   "source": [
    "flag = False\n",
    "try:\n",
    "    # should have given an id argument, as id=1 has no staterror column\n",
    "    ui.reg_proj(mdl2.c0, mdl2.c1, nloop=[41, 41])\n",
    "except err.StatErr:\n",
    "    flag = True\n",
    "\n",
    "t.assertTrue(flag, msg='reg_proj exited with an error')"
   ]
  },
  {
   "cell_type": "code",
   "execution_count": 117,
   "metadata": {
    "collapsed": false
   },
   "outputs": [
    {
     "name": "stderr",
     "output_type": "stream",
     "text": [
      "/home/djburke/miniconda2/envs/sherpa-4.8.0/lib/python2.7/site-packages/matplotlib/collections.py:650: FutureWarning: elementwise comparison failed; returning scalar instead, but in the future will perform elementwise comparison\n",
      "  if self._edgecolors_original != str('face'):\n"
     ]
    },
    {
     "data": {
      "image/png": "[encoded data removed]",
      "text/plain": [
       "<matplotlib.figure.Figure at 0x7efc6dc4ced0>"
      ]
     },
     "metadata": {},
     "output_type": "display_data"
    }
   ],
   "source": [
    "ui.reg_proj(mdl2.c0, mdl2.c1, nloop=[41, 41], id='sorted')"
   ]
  },
  {
   "cell_type": "code",
   "execution_count": 118,
   "metadata": {
    "collapsed": false
   },
   "outputs": [],
   "source": [
    "rproj = ui.get_reg_proj(recalc=False)"
   ]
  },
  {
   "cell_type": "code",
   "execution_count": 119,
   "metadata": {
    "collapsed": false
   },
   "outputs": [],
   "source": [
    "t.assertEqual('mdl2.c0', rproj.xlabel, msg='rproj x-axis label')\n",
    "t.assertEqual('mdl2.c1', rproj.ylabel, msg='rproj y-axis label')\n",
    "# Really should check some numeric values"
   ]
  },
  {
   "cell_type": "markdown",
   "metadata": {},
   "source": [
    "# Final check"
   ]
  },
  {
   "cell_type": "code",
   "execution_count": 120,
   "metadata": {
    "collapsed": false
   },
   "outputs": [
    {
     "name": "stdout",
     "output_type": "stream",
     "text": [
      "All 91 tests ran successfully\n"
     ]
    }
   ],
   "source": [
    "t.report(91)"
   ]
  },
  {
   "cell_type": "code",
   "execution_count": null,
   "metadata": {
    "collapsed": true
   },
   "outputs": [],
   "source": []
  }
 ],
 "metadata": {
  "kernelspec": {
   "display_name": "Python 2",
   "language": "python",
   "name": "python2"
  },
  "language_info": {
   "codemirror_mode": {
    "name": "ipython",
    "version": 2
   },
   "file_extension": ".py",
   "mimetype": "text/x-python",
   "name": "python",
   "nbconvert_exporter": "python",
   "pygments_lexer": "ipython2",
   "version": "2.7.11"
  }
 },
 "nbformat": 4,
 "nbformat_minor": 0
}
